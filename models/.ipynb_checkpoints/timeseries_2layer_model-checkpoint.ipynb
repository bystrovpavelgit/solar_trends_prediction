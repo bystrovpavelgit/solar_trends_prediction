{
 "cells": [
  {
   "cell_type": "code",
   "execution_count": null,
   "id": "16ba5291",
   "metadata": {},
   "outputs": [],
   "source": [
    "import pandas as pd\n",
    "import numpy as np\n",
    "from tensorflow.keras import layers, models\n"
   ]
  },
  {
   "cell_type": "code",
   "execution_count": null,
   "id": "48ca0fc3",
   "metadata": {},
   "outputs": [],
   "source": [
    "def get_two_layers_nnet():\n",
    "    \"\"\" prepare two layers neural net \"\"\"\n",
    "    model = models.Sequential()\n",
    "    model.add(layers.Dense(34, activation=\"tanh\", input_shape=(34,)))\n",
    "    model.add(layers.Dropout(0.1))\n",
    "    model.add(layers.Dense(12, activation=\"tanh\"))\n",
    "    model.add(layers.Dense(1))\n",
    "    model.compile(optimizer=\"adam\", loss=\"mse\", metrics=[\"mae\"])\n",
    "    return model\n",
    "\n"
   ]
  },
  {
   "cell_type": "code",
   "execution_count": null,
   "id": "4cced1ce",
   "metadata": {},
   "outputs": [],
   "source": [
    "def prepare_data(csv_file=\"../data/sunspot_numbers.csv\",\n",
    "                 lag_start=1,\n",
    "                 lag_end=26):\n",
    "    \"\"\" \"\"\"\n",
    "    data = pd.read_csv(csv_file, delimiter=\";\")\n",
    "    fields = []\n",
    "    # lags of series\n",
    "    for i in range(lag_start, (lag_end + 1)):\n",
    "        data[f\"lag_{i}\"] = data.sunspots.shift(i).fillna(0.)\n",
    "        fields.append(f\"lag_{i}\")\n",
    "    final_lag = 12\n",
    "    for i in range(64, 514, 64):\n",
    "        data[f\"lag_{i}\"] = data.sunspots.shift(i).fillna(0.)\n",
    "        fields.append(f\"lag_{i}\")\n",
    "    print(len(fields))\n",
    "    return data, fields\n"
   ]
  },
  {
   "cell_type": "code",
   "execution_count": null,
   "id": "27e0b4c6",
   "metadata": {},
   "outputs": [],
   "source": []
  },
  {
   "cell_type": "code",
   "execution_count": null,
   "id": "5f0935ac",
   "metadata": {},
   "outputs": [],
   "source": [
    "df, lags = prepare_data(csv_file=\"../data/sunspot_numbers.csv\")\n",
    "model = get_two_layers_nnet()\n",
    "\n",
    "np.random.seed(209)\n",
    "\n",
    "n = len(df[\"sunspots\"].values)\n",
    "nums = np.array(np.arange(n))\n",
    "np.random.shuffle(nums)\n",
    "rands = nums[72:].tolist()\n",
    "X = df[lags].values[rands]\n",
    "y = df[\"sunspots\"].values[rands]\n",
    "X_test = df[lags].values[nums[:72]]\n",
    "y_test = df[\"sunspots\"].values[nums[:72]]\n",
    "mean = df[lags].values.mean(axis=0)\n",
    "std = df[lags].values.std(axis=0)\n",
    "X = (X - mean) / std\n",
    "X_test = (X_test - mean) / std\n",
    "\n",
    "history = model.fit(X, y, epochs = 870, batch_size = 64,\n",
    "                    validation_data=(X_test, y_test))"
   ]
  },
  {
   "cell_type": "code",
   "execution_count": null,
   "id": "f643e10e",
   "metadata": {},
   "outputs": [],
   "source": [
    "from matplotlib import pyplot as plt\n",
    "%matplotlib inline\n",
    "\n",
    "model.evaluate(X_test, y_test)\n",
    "x_avg = (df[lags].values - mean) / std\n",
    "predict = model.predict(x_avg)"
   ]
  },
  {
   "cell_type": "code",
   "execution_count": null,
   "id": "cafd1b9e",
   "metadata": {},
   "outputs": [],
   "source": [
    "plt.plot(predict)\n",
    "plt.show()"
   ]
  },
  {
   "cell_type": "code",
   "execution_count": null,
   "id": "badefff3",
   "metadata": {},
   "outputs": [],
   "source": [
    "from matplotlib import pyplot as plt\n",
    "%matplotlib inline\n",
    "\n",
    "model.evaluate(X_test, y_test)\n",
    "x_avg = (df[lags].values - mean) / std\n",
    "predict = model.predict(x_avg)\n",
    "\n",
    "plt.plot(predict)\n",
    "plt.show()"
   ]
  },
  {
   "cell_type": "code",
   "execution_count": null,
   "id": "cf133f47",
   "metadata": {},
   "outputs": [],
   "source": [
    "model.evaluate(x_avg, df[\"sunspots\"].values)"
   ]
  },
  {
   "cell_type": "code",
   "execution_count": null,
   "id": "b6bdc5fe",
   "metadata": {},
   "outputs": [],
   "source": [
    "model.save(\"two_layer_dnn.h5\")"
   ]
  },
  {
   "cell_type": "code",
   "execution_count": null,
   "id": "9dd8e573",
   "metadata": {},
   "outputs": [],
   "source": [
    "print(np.max(predict), np.max(df[\"sunspots\"].values))"
   ]
  },
  {
   "cell_type": "code",
   "execution_count": null,
   "id": "65afda75",
   "metadata": {},
   "outputs": [],
   "source": []
  }
 ],
 "metadata": {
  "kernelspec": {
   "display_name": "Python 3 (ipykernel)",
   "language": "python",
   "name": "python3"
  },
  "language_info": {
   "codemirror_mode": {
    "name": "ipython",
    "version": 3
   },
   "file_extension": ".py",
   "mimetype": "text/x-python",
   "name": "python",
   "nbconvert_exporter": "python",
   "pygments_lexer": "ipython3",
   "version": "3.9.12"
  }
 },
 "nbformat": 4,
 "nbformat_minor": 5
}
